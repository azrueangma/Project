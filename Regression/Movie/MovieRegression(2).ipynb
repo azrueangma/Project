{
 "cells": [
  {
   "cell_type": "code",
   "execution_count": 1,
   "metadata": {
    "collapsed": false
   },
   "outputs": [],
   "source": [
    "import tensorflow as tf\n",
    "import pandas as pd\n",
    "tf.logging.set_verbosity(tf.logging.FATAL)\n",
    "\n",
    "COLUMNS = [\"buzz\",\"positive\",\"korea\",\"usa\",\"etc\",\"director\",\"actor\",\"distributor\",\"screen\",\"drama\",\"action\",\"comedy\",\"fantasy\",\n",
    "           \"advanture\",\"criminal\",\"traditioinal\",\"romance\",\"animation\",\"documentary\", \"horror\", \"total\"]\n",
    "\n",
    "FEATURES = [\"buzz\",\"positive\",\"korea\",\"usa\",\"etc\",\"director\",\"actor\",\"distributor\",\"screen\",\"drama\",\"action\",\"comedy\",\"fantasy\",\n",
    "           \"advanture\",\"criminal\",\"traditioinal\",\"romance\",\"animation\",\"documentary\", \"horror\"]\n",
    "\n",
    "LABEL = \"total\"\n",
    "\n",
    "training_set = pd.read_csv('movie_training.csv',names=COLUMNS,skipinitialspace=True, skiprows=1)\n",
    "test_set = pd.read_csv('movie_test.csv',names=COLUMNS,skipinitialspace=True)\n",
    "prediction_set = pd.read_csv('movie_prediction.csv',names=COLUMNS,skipinitialspace=True)"
   ]
  },
  {
   "cell_type": "code",
   "execution_count": 2,
   "metadata": {
    "collapsed": false
   },
   "outputs": [],
   "source": [
    "feature_cols = [tf.contrib.layers.real_valued_column(k) for k in FEATURES]"
   ]
  },
  {
   "cell_type": "code",
   "execution_count": 3,
   "metadata": {
    "collapsed": false,
    "scrolled": true
   },
   "outputs": [],
   "source": [
    "regressor = tf.contrib.learn.DNNRegressor(feature_columns=feature_cols, \n",
    "                                          dropout=0.5, \n",
    "                                          hidden_units=[30,20,10], \n",
    "                                          activation_fn=tf.nn.relu)"
   ]
  },
  {
   "cell_type": "code",
   "execution_count": 4,
   "metadata": {
    "collapsed": false
   },
   "outputs": [],
   "source": [
    "def input_fn(data_set):\n",
    "    feature_cols = {k: tf.constant(data_set[k].values) for k in FEATURES}\n",
    "    labels = tf.constant(data_set[LABEL].values)\n",
    "    return feature_cols, labels"
   ]
  },
  {
   "cell_type": "code",
   "execution_count": 5,
   "metadata": {
    "collapsed": false
   },
   "outputs": [
    {
     "data": {
      "text/plain": [
       "DNNRegressor(hidden_units=[30, 20, 10], dropout=None, optimizer=None, feature_columns=[_RealValuedColumn(column_name='buzz', dimension=1, default_value=None, dtype=tf.float32, normalizer=None), _RealValuedColumn(column_name='positive', dimension=1, default_value=None, dtype=tf.float32, normalizer=None), _RealValuedColumn(column_name='korea', dimension=1, default_value=None, dtype=tf.float32, normalizer=None), _RealValuedColumn(column_name='usa', dimension=1, default_value=None, dtype=tf.float32, normalizer=None), _RealValuedColumn(column_name='etc', dimension=1, default_value=None, dtype=tf.float32, normalizer=None), _RealValuedColumn(column_name='director', dimension=1, default_value=None, dtype=tf.float32, normalizer=None), _RealValuedColumn(column_name='actor', dimension=1, default_value=None, dtype=tf.float32, normalizer=None), _RealValuedColumn(column_name='distributor', dimension=1, default_value=None, dtype=tf.float32, normalizer=None), _RealValuedColumn(column_name='screen', dimension=1, default_value=None, dtype=tf.float32, normalizer=None), _RealValuedColumn(column_name='drama', dimension=1, default_value=None, dtype=tf.float32, normalizer=None), _RealValuedColumn(column_name='action', dimension=1, default_value=None, dtype=tf.float32, normalizer=None), _RealValuedColumn(column_name='comedy', dimension=1, default_value=None, dtype=tf.float32, normalizer=None), _RealValuedColumn(column_name='fantasy', dimension=1, default_value=None, dtype=tf.float32, normalizer=None), _RealValuedColumn(column_name='advanture', dimension=1, default_value=None, dtype=tf.float32, normalizer=None), _RealValuedColumn(column_name='criminal', dimension=1, default_value=None, dtype=tf.float32, normalizer=None), _RealValuedColumn(column_name='traditioinal', dimension=1, default_value=None, dtype=tf.float32, normalizer=None), _RealValuedColumn(column_name='romance', dimension=1, default_value=None, dtype=tf.float32, normalizer=None), _RealValuedColumn(column_name='animation', dimension=1, default_value=None, dtype=tf.float32, normalizer=None), _RealValuedColumn(column_name='documentary', dimension=1, default_value=None, dtype=tf.float32, normalizer=None), _RealValuedColumn(column_name='horror', dimension=1, default_value=None, dtype=tf.float32, normalizer=None)])"
      ]
     },
     "execution_count": 5,
     "metadata": {},
     "output_type": "execute_result"
    }
   ],
   "source": [
    "regressor.fit(input_fn=lambda: input_fn(training_set), steps=5000)"
   ]
  },
  {
   "cell_type": "code",
   "execution_count": 6,
   "metadata": {
    "collapsed": false
   },
   "outputs": [],
   "source": [
    "ev = regressor.evaluate(input_fn=lambda: input_fn(test_set), steps=1)"
   ]
  },
  {
   "cell_type": "code",
   "execution_count": 7,
   "metadata": {
    "collapsed": false
   },
   "outputs": [
    {
     "name": "stdout",
     "output_type": "stream",
     "text": [
      "Loss: 4847481913344.000000\n"
     ]
    }
   ],
   "source": [
    "loss_score = ev[\"loss\"]\n",
    "print(\"Loss: {0:f}\".format(loss_score))"
   ]
  },
  {
   "cell_type": "code",
   "execution_count": 8,
   "metadata": {
    "collapsed": false
   },
   "outputs": [
    {
     "name": "stdout",
     "output_type": "stream",
     "text": [
      "3.52512e+06\n",
      "2.08788e+06\n",
      "1.00328e+06\n"
     ]
    }
   ],
   "source": [
    "y = regressor.predict(input_fn=lambda: input_fn(prediction_set))\n",
    "i=0\n",
    "for value in y:\n",
    "    if i==3:\n",
    "        break\n",
    "    else:\n",
    "        print(value)\n",
    "    i+=1;"
   ]
  },
  {
   "cell_type": "code",
   "execution_count": null,
   "metadata": {
    "collapsed": true
   },
   "outputs": [],
   "source": []
  }
 ],
 "metadata": {
  "kernelspec": {
   "display_name": "Python 2",
   "language": "python",
   "name": "python2"
  },
  "language_info": {
   "codemirror_mode": {
    "name": "ipython",
    "version": 2
   },
   "file_extension": ".py",
   "mimetype": "text/x-python",
   "name": "python",
   "nbconvert_exporter": "python",
   "pygments_lexer": "ipython2",
   "version": "2.7.12"
  }
 },
 "nbformat": 4,
 "nbformat_minor": 2
}
