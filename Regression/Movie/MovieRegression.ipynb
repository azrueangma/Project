{
 "cells": [
  {
   "cell_type": "code",
   "execution_count": 1,
   "metadata": {
    "collapsed": false
   },
   "outputs": [],
   "source": [
    "import tensorflow as tf"
   ]
  },
  {
   "cell_type": "code",
   "execution_count": 2,
   "metadata": {
    "collapsed": true
   },
   "outputs": [],
   "source": [
    "import pandas as pd"
   ]
  },
  {
   "cell_type": "code",
   "execution_count": 3,
   "metadata": {
    "collapsed": true
   },
   "outputs": [],
   "source": [
    "COLUMNS = [\"buzz\",\"positive\",\"director\",\"actor\",\"distributor\",\"screen\",\"total\"]\n",
    "FEATURES = [\"buzz\",\"positive\",\"director\",\"actor\",\"distributor\",\"screen\"]\n",
    "LABEL = \"total\""
   ]
  },
  {
   "cell_type": "code",
   "execution_count": 4,
   "metadata": {
    "collapsed": false
   },
   "outputs": [],
   "source": [
    "training_set = pd.read_csv('movie_training.csv',names=COLUMNS,skipinitialspace=True, skiprows=1)\n",
    "test_set = pd.read_csv('movie_test.csv',names=COLUMNS,skipinitialspace=True)\n",
    "prediction_set = pd.read_csv('movie_prediction.csv',names=COLUMNS,skipinitialspace=True)"
   ]
  },
  {
   "cell_type": "code",
   "execution_count": 5,
   "metadata": {
    "collapsed": false
   },
   "outputs": [],
   "source": [
    "feature_cols = [tf.contrib.layers.real_valued_column(k)\n",
    "                  for k in FEATURES]"
   ]
  },
  {
   "cell_type": "code",
   "execution_count": 6,
   "metadata": {
    "collapsed": false,
    "scrolled": true
   },
   "outputs": [
    {
     "name": "stdout",
     "output_type": "stream",
     "text": [
      "WARNING:tensorflow:Using temporary folder as model directory: /tmp/tmpTw26Mw\n",
      "INFO:tensorflow:Using default config.\n",
      "INFO:tensorflow:Using config: {'save_summary_steps': 100, '_num_ps_replicas': 0, '_task_type': None, '_environment': 'local', '_is_chief': True, 'save_checkpoints_secs': 600, '_cluster_spec': <tensorflow.python.training.server_lib.ClusterSpec object at 0x7f3aa24103d0>, 'tf_config': gpu_options {\n",
      "  per_process_gpu_memory_fraction: 1\n",
      "}\n",
      ", '_task_id': 0, 'tf_random_seed': None, 'keep_checkpoint_every_n_hours': 10000, '_evaluation_master': '', 'save_checkpoints_steps': None, '_master': '', 'keep_checkpoint_max': 5}\n"
     ]
    }
   ],
   "source": [
    "regressor = tf.contrib.learn.DNNRegressor(feature_columns=feature_cols, dropout=0.5, hidden_units=[10,10], activation_fn=tf.nn.relu)"
   ]
  },
  {
   "cell_type": "code",
   "execution_count": 7,
   "metadata": {
    "collapsed": false
   },
   "outputs": [],
   "source": [
    "def input_fn(data_set):\n",
    "  feature_cols = {k: tf.constant(data_set[k].values) for k in FEATURES}\n",
    "  labels = tf.constant(data_set[LABEL].values)\n",
    "  return feature_cols, labels"
   ]
  },
  {
   "cell_type": "code",
   "execution_count": 8,
   "metadata": {
    "collapsed": false
   },
   "outputs": [
    {
     "name": "stdout",
     "output_type": "stream",
     "text": [
      "WARNING:tensorflow:Rank of input Tensor (1) should be the same as output_rank (2) for column. Will attempt to expand dims. It is highly recommended that you resize your input, as this behavior may change.\n",
      "WARNING:tensorflow:Rank of input Tensor (1) should be the same as output_rank (2) for column. Will attempt to expand dims. It is highly recommended that you resize your input, as this behavior may change.\n",
      "WARNING:tensorflow:Rank of input Tensor (1) should be the same as output_rank (2) for column. Will attempt to expand dims. It is highly recommended that you resize your input, as this behavior may change.\n",
      "WARNING:tensorflow:Rank of input Tensor (1) should be the same as output_rank (2) for column. Will attempt to expand dims. It is highly recommended that you resize your input, as this behavior may change.\n",
      "WARNING:tensorflow:Rank of input Tensor (1) should be the same as output_rank (2) for column. Will attempt to expand dims. It is highly recommended that you resize your input, as this behavior may change.\n",
      "WARNING:tensorflow:Rank of input Tensor (1) should be the same as output_rank (2) for column. Will attempt to expand dims. It is highly recommended that you resize your input, as this behavior may change.\n",
      "INFO:tensorflow:Summary name dnn/hiddenlayer_0:fraction_of_zero_values is illegal; using dnn/hiddenlayer_0_fraction_of_zero_values instead.\n",
      "INFO:tensorflow:Summary name dnn/hiddenlayer_0:activation is illegal; using dnn/hiddenlayer_0_activation instead.\n",
      "INFO:tensorflow:Summary name dnn/hiddenlayer_1:fraction_of_zero_values is illegal; using dnn/hiddenlayer_1_fraction_of_zero_values instead.\n",
      "INFO:tensorflow:Summary name dnn/hiddenlayer_1:activation is illegal; using dnn/hiddenlayer_1_activation instead.\n",
      "INFO:tensorflow:Summary name logits:fraction_of_zero_values is illegal; using logits_fraction_of_zero_values instead.\n",
      "INFO:tensorflow:Summary name logits:activation is illegal; using logits_activation instead.\n",
      "INFO:tensorflow:Create CheckpointSaverHook.\n",
      "INFO:tensorflow:loss = 7.27406e+12, step = 1\n",
      "INFO:tensorflow:Saving checkpoints for 1 into /tmp/tmpTw26Mw/model.ckpt.\n",
      "WARNING:tensorflow:*******************************************************\n",
      "WARNING:tensorflow:TensorFlow's V1 checkpoint format has been deprecated.\n",
      "WARNING:tensorflow:Consider switching to the more efficient V2 format:\n",
      "WARNING:tensorflow:   `tf.train.Saver(write_version=tf.train.SaverDef.V2)`\n",
      "WARNING:tensorflow:now on by default.\n",
      "WARNING:tensorflow:*******************************************************\n",
      "INFO:tensorflow:loss = 7.27316e+12, step = 101\n",
      "INFO:tensorflow:global_step/sec: 293.282\n",
      "INFO:tensorflow:loss = 7.271e+12, step = 201\n",
      "INFO:tensorflow:global_step/sec: 1434.58\n",
      "INFO:tensorflow:loss = 7.26857e+12, step = 301\n",
      "INFO:tensorflow:global_step/sec: 1416.35\n",
      "INFO:tensorflow:loss = 7.26518e+12, step = 401\n",
      "INFO:tensorflow:global_step/sec: 1408.87\n",
      "INFO:tensorflow:loss = 7.26204e+12, step = 501\n",
      "INFO:tensorflow:global_step/sec: 1371.74\n",
      "INFO:tensorflow:loss = 7.25747e+12, step = 601\n",
      "INFO:tensorflow:global_step/sec: 1427.14\n",
      "INFO:tensorflow:loss = 7.25345e+12, step = 701\n",
      "INFO:tensorflow:global_step/sec: 1452.56\n",
      "INFO:tensorflow:loss = 7.24801e+12, step = 801\n",
      "INFO:tensorflow:global_step/sec: 876.172\n",
      "INFO:tensorflow:loss = 7.24483e+12, step = 901\n",
      "INFO:tensorflow:global_step/sec: 858.287\n",
      "INFO:tensorflow:loss = 7.23954e+12, step = 1001\n",
      "INFO:tensorflow:global_step/sec: 1028.28\n",
      "INFO:tensorflow:loss = 7.23508e+12, step = 1101\n",
      "INFO:tensorflow:global_step/sec: 1426.05\n",
      "INFO:tensorflow:loss = 7.22938e+12, step = 1201\n",
      "INFO:tensorflow:global_step/sec: 1401.42\n",
      "INFO:tensorflow:loss = 7.21823e+12, step = 1301\n",
      "INFO:tensorflow:global_step/sec: 1443.13\n",
      "INFO:tensorflow:loss = 7.21986e+12, step = 1401\n",
      "INFO:tensorflow:global_step/sec: 962.436\n",
      "INFO:tensorflow:loss = 7.21148e+12, step = 1501\n",
      "INFO:tensorflow:global_step/sec: 865.899\n",
      "INFO:tensorflow:loss = 7.20817e+12, step = 1601\n",
      "INFO:tensorflow:global_step/sec: 819.349\n",
      "INFO:tensorflow:loss = 7.20395e+12, step = 1701\n",
      "INFO:tensorflow:global_step/sec: 1119.39\n",
      "INFO:tensorflow:loss = 7.19e+12, step = 1801\n",
      "INFO:tensorflow:global_step/sec: 1302.09\n",
      "INFO:tensorflow:loss = 7.19079e+12, step = 1901\n",
      "INFO:tensorflow:global_step/sec: 1322.5\n",
      "INFO:tensorflow:loss = 7.18135e+12, step = 2001\n",
      "INFO:tensorflow:global_step/sec: 1427.53\n",
      "INFO:tensorflow:loss = 7.17291e+12, step = 2101\n",
      "INFO:tensorflow:global_step/sec: 1445.65\n",
      "INFO:tensorflow:loss = 7.16834e+12, step = 2201\n",
      "INFO:tensorflow:global_step/sec: 1490.2\n",
      "INFO:tensorflow:loss = 7.14976e+12, step = 2301\n",
      "INFO:tensorflow:global_step/sec: 1492.65\n",
      "INFO:tensorflow:loss = 7.1439e+12, step = 2401\n",
      "INFO:tensorflow:global_step/sec: 1338.76\n",
      "INFO:tensorflow:loss = 7.15173e+12, step = 2501\n",
      "INFO:tensorflow:global_step/sec: 1231.42\n",
      "INFO:tensorflow:loss = 7.12865e+12, step = 2601\n",
      "INFO:tensorflow:global_step/sec: 1300.81\n",
      "INFO:tensorflow:loss = 7.12932e+12, step = 2701\n",
      "INFO:tensorflow:global_step/sec: 1344.47\n",
      "INFO:tensorflow:loss = 7.12574e+12, step = 2801\n",
      "INFO:tensorflow:global_step/sec: 1263.34\n",
      "INFO:tensorflow:loss = 7.12506e+12, step = 2901\n",
      "INFO:tensorflow:global_step/sec: 1041.63\n",
      "INFO:tensorflow:loss = 7.10048e+12, step = 3001\n",
      "INFO:tensorflow:global_step/sec: 1179.44\n",
      "INFO:tensorflow:loss = 7.09054e+12, step = 3101\n",
      "INFO:tensorflow:global_step/sec: 1250.94\n",
      "INFO:tensorflow:loss = 7.09147e+12, step = 3201\n",
      "INFO:tensorflow:global_step/sec: 1362.75\n",
      "INFO:tensorflow:loss = 7.08687e+12, step = 3301\n",
      "INFO:tensorflow:global_step/sec: 1346.55\n",
      "INFO:tensorflow:loss = 7.07086e+12, step = 3401\n",
      "INFO:tensorflow:global_step/sec: 1278.25\n",
      "INFO:tensorflow:loss = 7.048e+12, step = 3501\n",
      "INFO:tensorflow:global_step/sec: 1299.6\n",
      "INFO:tensorflow:loss = 7.0675e+12, step = 3601\n",
      "INFO:tensorflow:global_step/sec: 1418.18\n",
      "INFO:tensorflow:loss = 7.03692e+12, step = 3701\n",
      "INFO:tensorflow:global_step/sec: 1428.59\n",
      "INFO:tensorflow:loss = 7.01378e+12, step = 3801\n",
      "INFO:tensorflow:global_step/sec: 1357.98\n",
      "INFO:tensorflow:loss = 7.01884e+12, step = 3901\n",
      "INFO:tensorflow:global_step/sec: 1263.73\n",
      "INFO:tensorflow:loss = 6.98165e+12, step = 4001\n",
      "INFO:tensorflow:global_step/sec: 1334.26\n",
      "INFO:tensorflow:loss = 7.02577e+12, step = 4101\n",
      "INFO:tensorflow:global_step/sec: 1225.69\n",
      "INFO:tensorflow:loss = 7.01355e+12, step = 4201\n",
      "INFO:tensorflow:global_step/sec: 1412.53\n",
      "INFO:tensorflow:loss = 6.98677e+12, step = 4301\n",
      "INFO:tensorflow:global_step/sec: 1420.86\n",
      "INFO:tensorflow:loss = 7.00473e+12, step = 4401\n",
      "INFO:tensorflow:global_step/sec: 1383.35\n",
      "INFO:tensorflow:loss = 6.99343e+12, step = 4501\n",
      "INFO:tensorflow:global_step/sec: 1302.68\n",
      "INFO:tensorflow:loss = 6.93362e+12, step = 4601\n",
      "INFO:tensorflow:global_step/sec: 1301.37\n",
      "INFO:tensorflow:loss = 6.96304e+12, step = 4701\n",
      "INFO:tensorflow:global_step/sec: 1371.19\n",
      "INFO:tensorflow:loss = 6.91165e+12, step = 4801\n",
      "INFO:tensorflow:global_step/sec: 1395.15\n",
      "INFO:tensorflow:loss = 6.92647e+12, step = 4901\n",
      "INFO:tensorflow:global_step/sec: 1279.69\n",
      "INFO:tensorflow:Saving checkpoints for 5000 into /tmp/tmpTw26Mw/model.ckpt.\n",
      "WARNING:tensorflow:*******************************************************\n",
      "WARNING:tensorflow:TensorFlow's V1 checkpoint format has been deprecated.\n",
      "WARNING:tensorflow:Consider switching to the more efficient V2 format:\n",
      "WARNING:tensorflow:   `tf.train.Saver(write_version=tf.train.SaverDef.V2)`\n",
      "WARNING:tensorflow:now on by default.\n",
      "WARNING:tensorflow:*******************************************************\n",
      "INFO:tensorflow:Loss for final step: 6.89731e+12.\n"
     ]
    },
    {
     "data": {
      "text/plain": [
       "DNNRegressor(hidden_units=[10, 10], dropout=0.5, optimizer=None, feature_columns=[_RealValuedColumn(column_name='buzz', dimension=1, default_value=None, dtype=tf.float32, normalizer=None), _RealValuedColumn(column_name='positive', dimension=1, default_value=None, dtype=tf.float32, normalizer=None), _RealValuedColumn(column_name='director', dimension=1, default_value=None, dtype=tf.float32, normalizer=None), _RealValuedColumn(column_name='actor', dimension=1, default_value=None, dtype=tf.float32, normalizer=None), _RealValuedColumn(column_name='distributor', dimension=1, default_value=None, dtype=tf.float32, normalizer=None), _RealValuedColumn(column_name='screen', dimension=1, default_value=None, dtype=tf.float32, normalizer=None)])"
      ]
     },
     "execution_count": 8,
     "metadata": {},
     "output_type": "execute_result"
    }
   ],
   "source": [
    "regressor.fit(input_fn=lambda: input_fn(training_set), steps=5000)"
   ]
  },
  {
   "cell_type": "code",
   "execution_count": 9,
   "metadata": {
    "collapsed": false
   },
   "outputs": [
    {
     "name": "stdout",
     "output_type": "stream",
     "text": [
      "WARNING:tensorflow:Rank of input Tensor (1) should be the same as output_rank (2) for column. Will attempt to expand dims. It is highly recommended that you resize your input, as this behavior may change.\n",
      "WARNING:tensorflow:Rank of input Tensor (1) should be the same as output_rank (2) for column. Will attempt to expand dims. It is highly recommended that you resize your input, as this behavior may change.\n",
      "WARNING:tensorflow:Rank of input Tensor (1) should be the same as output_rank (2) for column. Will attempt to expand dims. It is highly recommended that you resize your input, as this behavior may change.\n",
      "WARNING:tensorflow:Rank of input Tensor (1) should be the same as output_rank (2) for column. Will attempt to expand dims. It is highly recommended that you resize your input, as this behavior may change.\n",
      "WARNING:tensorflow:Rank of input Tensor (1) should be the same as output_rank (2) for column. Will attempt to expand dims. It is highly recommended that you resize your input, as this behavior may change.\n",
      "WARNING:tensorflow:Rank of input Tensor (1) should be the same as output_rank (2) for column. Will attempt to expand dims. It is highly recommended that you resize your input, as this behavior may change.\n",
      "INFO:tensorflow:Summary name dnn/hiddenlayer_0:fraction_of_zero_values is illegal; using dnn/hiddenlayer_0_fraction_of_zero_values instead.\n",
      "INFO:tensorflow:Summary name dnn/hiddenlayer_0:activation is illegal; using dnn/hiddenlayer_0_activation instead.\n",
      "INFO:tensorflow:Summary name dnn/hiddenlayer_1:fraction_of_zero_values is illegal; using dnn/hiddenlayer_1_fraction_of_zero_values instead.\n",
      "INFO:tensorflow:Summary name dnn/hiddenlayer_1:activation is illegal; using dnn/hiddenlayer_1_activation instead.\n",
      "INFO:tensorflow:Summary name logits:fraction_of_zero_values is illegal; using logits_fraction_of_zero_values instead.\n",
      "INFO:tensorflow:Summary name logits:activation is illegal; using logits_activation instead.\n",
      "INFO:tensorflow:Restored model from /tmp/tmpTw26Mw\n",
      "INFO:tensorflow:Eval steps [0,1) for training step 5000.\n",
      "INFO:tensorflow:Saving evaluation summary for step 5000: loss = 1.28653e+13\n"
     ]
    }
   ],
   "source": [
    "ev = regressor.evaluate(input_fn=lambda: input_fn(test_set), steps=1)"
   ]
  },
  {
   "cell_type": "code",
   "execution_count": 10,
   "metadata": {
    "collapsed": false
   },
   "outputs": [
    {
     "name": "stdout",
     "output_type": "stream",
     "text": [
      "Loss: 12865294565376.000000\n"
     ]
    }
   ],
   "source": [
    "loss_score = ev[\"loss\"]\n",
    "print(\"Loss: {0:f}\".format(loss_score))"
   ]
  },
  {
   "cell_type": "code",
   "execution_count": 11,
   "metadata": {
    "collapsed": false
   },
   "outputs": [
    {
     "name": "stdout",
     "output_type": "stream",
     "text": [
      "WARNING:tensorflow:From /usr/local/lib/python2.7/dist-packages/tensorflow/contrib/learn/python/learn/estimators/dnn_linear_combined.py:1053 in predict.: calling predict (from tensorflow.contrib.learn.python.learn.estimators.estimator) with x is deprecated and will be removed after 2016-12-01.\n",
      "Instructions for updating:\n",
      "Estimator is decoupled from Scikit Learn interface by moving into\n",
      "separate class SKCompat. Arguments x, y and batch_size are only\n",
      "available in the SKCompat class, Estimator will only accept input_fn.\n",
      "Example conversion:\n",
      "  est = Estimator(...) -> est = SKCompat(Estimator(...))\n",
      "WARNING:tensorflow:From /usr/local/lib/python2.7/dist-packages/tensorflow/contrib/learn/python/learn/estimators/dnn_linear_combined.py:1053 in predict.: calling predict (from tensorflow.contrib.learn.python.learn.estimators.estimator) with batch_size is deprecated and will be removed after 2016-12-01.\n",
      "Instructions for updating:\n",
      "Estimator is decoupled from Scikit Learn interface by moving into\n",
      "separate class SKCompat. Arguments x, y and batch_size are only\n",
      "available in the SKCompat class, Estimator will only accept input_fn.\n",
      "Example conversion:\n",
      "  est = Estimator(...) -> est = SKCompat(Estimator(...))\n",
      "WARNING:tensorflow:From /usr/local/lib/python2.7/dist-packages/tensorflow/contrib/learn/python/learn/estimators/dnn_linear_combined.py:1053 in predict.: calling predict (from tensorflow.contrib.learn.python.learn.estimators.estimator) with as_iterable is deprecated and will be removed after 2016-12-01.\n",
      "Instructions for updating:\n",
      "Estimator is decoupled from Scikit Learn interface by moving into\n",
      "separate class SKCompat. Arguments x, y and batch_size are only\n",
      "available in the SKCompat class, Estimator will only accept input_fn.\n",
      "Example conversion:\n",
      "  est = Estimator(...) -> est = SKCompat(Estimator(...))\n",
      "WARNING:tensorflow:Rank of input Tensor (1) should be the same as output_rank (2) for column. Will attempt to expand dims. It is highly recommended that you resize your input, as this behavior may change.\n",
      "WARNING:tensorflow:Rank of input Tensor (1) should be the same as output_rank (2) for column. Will attempt to expand dims. It is highly recommended that you resize your input, as this behavior may change.\n",
      "WARNING:tensorflow:Rank of input Tensor (1) should be the same as output_rank (2) for column. Will attempt to expand dims. It is highly recommended that you resize your input, as this behavior may change.\n",
      "WARNING:tensorflow:Rank of input Tensor (1) should be the same as output_rank (2) for column. Will attempt to expand dims. It is highly recommended that you resize your input, as this behavior may change.\n",
      "WARNING:tensorflow:Rank of input Tensor (1) should be the same as output_rank (2) for column. Will attempt to expand dims. It is highly recommended that you resize your input, as this behavior may change.\n",
      "WARNING:tensorflow:Rank of input Tensor (1) should be the same as output_rank (2) for column. Will attempt to expand dims. It is highly recommended that you resize your input, as this behavior may change.\n",
      "INFO:tensorflow:Summary name dnn/hiddenlayer_0:fraction_of_zero_values is illegal; using dnn/hiddenlayer_0_fraction_of_zero_values instead.\n",
      "INFO:tensorflow:Summary name dnn/hiddenlayer_0:activation is illegal; using dnn/hiddenlayer_0_activation instead.\n",
      "INFO:tensorflow:Summary name dnn/hiddenlayer_1:fraction_of_zero_values is illegal; using dnn/hiddenlayer_1_fraction_of_zero_values instead.\n",
      "INFO:tensorflow:Summary name dnn/hiddenlayer_1:activation is illegal; using dnn/hiddenlayer_1_activation instead.\n",
      "INFO:tensorflow:Summary name logits:fraction_of_zero_values is illegal; using logits_fraction_of_zero_values instead.\n",
      "INFO:tensorflow:Summary name logits:activation is illegal; using logits_activation instead.\n"
     ]
    }
   ],
   "source": [
    "y = regressor.predict(input_fn=lambda: input_fn(prediction_set))"
   ]
  },
  {
   "cell_type": "code",
   "execution_count": 12,
   "metadata": {
    "collapsed": false
   },
   "outputs": [
    {
     "name": "stdout",
     "output_type": "stream",
     "text": [
      "INFO:tensorflow:Loading model from checkpoint: /tmp/tmpTw26Mw/model.ckpt-5000-?????-of-00001.\n",
      "181213.0\n",
      "94025.0\n",
      "182867.0\n"
     ]
    }
   ],
   "source": [
    "i=0\n",
    "for value in y:\n",
    "    if i==3:\n",
    "        break\n",
    "    else:\n",
    "        print(value)\n",
    "    i+=1;"
   ]
  },
  {
   "cell_type": "code",
   "execution_count": null,
   "metadata": {
    "collapsed": true
   },
   "outputs": [],
   "source": []
  },
  {
   "cell_type": "code",
   "execution_count": null,
   "metadata": {
    "collapsed": true
   },
   "outputs": [],
   "source": []
  },
  {
   "cell_type": "code",
   "execution_count": null,
   "metadata": {
    "collapsed": true
   },
   "outputs": [],
   "source": []
  }
 ],
 "metadata": {
  "kernelspec": {
   "display_name": "Python 2",
   "language": "python",
   "name": "python2"
  },
  "language_info": {
   "codemirror_mode": {
    "name": "ipython",
    "version": 2
   },
   "file_extension": ".py",
   "mimetype": "text/x-python",
   "name": "python",
   "nbconvert_exporter": "python",
   "pygments_lexer": "ipython2",
   "version": "2.7.12"
  }
 },
 "nbformat": 4,
 "nbformat_minor": 2
}
